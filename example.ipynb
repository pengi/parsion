{
 "cells": [
  {
   "cell_type": "code",
   "execution_count": 1,
   "metadata": {},
   "outputs": [],
   "source": [
    "import parsion\n",
    "from IPython.display import HTML, display\n",
    "from tabulate import tabulate\n",
    "from example import ExprLang\n",
    "\n",
    "def table(tbl):\n",
    "    display(HTML(tabulate(tbl, tablefmt='html')))"
   ]
  },
  {
   "cell_type": "code",
   "execution_count": 15,
   "metadata": {},
   "outputs": [
    {
     "data": {
      "text/html": [
       "<table>\n",
       "<tbody>\n",
       "<tr><td>     </td><td>re.compile(&#x27;(\\\\s+)&#x27;)                 </td><td>&lt;function ExprLang.__init__.&lt;locals&gt;.&lt;lambda&gt; at 0x0000021AC93B25C0&gt;</td></tr>\n",
       "<tr><td>STR  </td><td>re.compile(&#x27;(&quot;(?:[^&quot;\\\\\\\\]|\\\\\\\\.)*&quot;)&#x27;)</td><td>&lt;function ExprLang.__init__.&lt;locals&gt;.&lt;lambda&gt; at 0x0000021AC93B27A0&gt;</td></tr>\n",
       "<tr><td>FLOAT</td><td>re.compile(&#x27;([0-9]+\\\\.[0-9]*)&#x27;)      </td><td>&lt;function ExprLang.__init__.&lt;locals&gt;.&lt;lambda&gt; at 0x0000021AC93B20C0&gt;</td></tr>\n",
       "<tr><td>INT  </td><td>re.compile(&#x27;([0-9]+|0x[0-9a-fA-F]+)&#x27;)</td><td>&lt;function ExprLang.__init__.&lt;locals&gt;.&lt;lambda&gt; at 0x0000021AC93B1620&gt;</td></tr>\n",
       "<tr><td>FOR  </td><td>re.compile(&#x27;(for)(?:[^a-z0-9_]|$)&#x27;)  </td><td>&lt;function ExprLang.__init__.&lt;locals&gt;.&lt;lambda&gt; at 0x0000021AC93B2340&gt;</td></tr>\n",
       "<tr><td>IN   </td><td>re.compile(&#x27;(in)(?:[^a-z0-9_]|$)&#x27;)   </td><td>&lt;function ExprLang.__init__.&lt;locals&gt;.&lt;lambda&gt; at 0x0000021AC93B23E0&gt;</td></tr>\n",
       "<tr><td>IF   </td><td>re.compile(&#x27;(if)(?:[^a-z0-9_]|$)&#x27;)   </td><td>&lt;function ExprLang.__init__.&lt;locals&gt;.&lt;lambda&gt; at 0x0000021AC93B1F80&gt;</td></tr>\n",
       "<tr><td>THEN </td><td>re.compile(&#x27;(then)(?:[^a-z0-9_]|$)&#x27;) </td><td>&lt;function ExprLang.__init__.&lt;locals&gt;.&lt;lambda&gt; at 0x0000021AC93B0180&gt;</td></tr>\n",
       "<tr><td>ELSE </td><td>re.compile(&#x27;(else)(?:[^a-z0-9_]|$)&#x27;) </td><td>&lt;function ExprLang.__init__.&lt;locals&gt;.&lt;lambda&gt; at 0x0000021AC93B22A0&gt;</td></tr>\n",
       "<tr><td>NAME </td><td>re.compile(&#x27;([a-zA-Z0-9_]+)&#x27;)        </td><td>&lt;function ExprLang.__init__.&lt;locals&gt;.&lt;lambda&gt; at 0x0000021AC93B1C60&gt;</td></tr>\n",
       "<tr><td>==   </td><td>re.compile(&#x27;(==)&#x27;)                   </td><td>&lt;function ExprLang.__init__.&lt;locals&gt;.&lt;lambda&gt; at 0x0000021AC93B1B20&gt;</td></tr>\n",
       "<tr><td>-    </td><td>re.compile(&#x27;(-)&#x27;)                    </td><td>&lt;function ExprLang.__init__.&lt;locals&gt;.&lt;lambda&gt; at 0x0000021AC93B2200&gt;</td></tr>\n",
       "<tr><td>+    </td><td>re.compile(&#x27;(\\\\+)&#x27;)                  </td><td>&lt;function ExprLang.__init__.&lt;locals&gt;.&lt;lambda&gt; at 0x0000021AC93B1120&gt;</td></tr>\n",
       "<tr><td>*    </td><td>re.compile(&#x27;(\\\\*)&#x27;)                  </td><td>&lt;function ExprLang.__init__.&lt;locals&gt;.&lt;lambda&gt; at 0x0000021AC93B1260&gt;</td></tr>\n",
       "<tr><td>/    </td><td>re.compile(&#x27;(\\\\/)&#x27;)                  </td><td>&lt;function ExprLang.__init__.&lt;locals&gt;.&lt;lambda&gt; at 0x0000021AC93B1A80&gt;</td></tr>\n",
       "<tr><td>,    </td><td>re.compile(&#x27;(,)&#x27;)                    </td><td>&lt;function ExprLang.__init__.&lt;locals&gt;.&lt;lambda&gt; at 0x0000021AC93B18A0&gt;</td></tr>\n",
       "<tr><td>.    </td><td>re.compile(&#x27;(\\\\.)&#x27;)                  </td><td>&lt;function ExprLang.__init__.&lt;locals&gt;.&lt;lambda&gt; at 0x0000021AC93B1800&gt;</td></tr>\n",
       "<tr><td>=    </td><td>re.compile(&#x27;(=)&#x27;)                    </td><td>&lt;function ExprLang.__init__.&lt;locals&gt;.&lt;lambda&gt; at 0x0000021AC93B1940&gt;</td></tr>\n",
       "<tr><td>(    </td><td>re.compile(&#x27;([\\\\(])&#x27;)                </td><td>&lt;function ExprLang.__init__.&lt;locals&gt;.&lt;lambda&gt; at 0x0000021AC93B1BC0&gt;</td></tr>\n",
       "<tr><td>)    </td><td>re.compile(&#x27;([\\\\)])&#x27;)                </td><td>&lt;function ExprLang.__init__.&lt;locals&gt;.&lt;lambda&gt; at 0x0000021AC93B2B60&gt;</td></tr>\n",
       "<tr><td>[    </td><td>re.compile(&#x27;(\\\\[)&#x27;)                  </td><td>&lt;function ExprLang.__init__.&lt;locals&gt;.&lt;lambda&gt; at 0x0000021AC93B3100&gt;</td></tr>\n",
       "<tr><td>]    </td><td>re.compile(&#x27;(\\\\])&#x27;)                  </td><td>&lt;function ExprLang.__init__.&lt;locals&gt;.&lt;lambda&gt; at 0x0000021AC93B31A0&gt;</td></tr>\n",
       "<tr><td>CHAR </td><td>re.compile(&#x27;(.)&#x27;)                    </td><td>&lt;function ExprLang.__init__.&lt;locals&gt;.&lt;lambda&gt; at 0x0000021AC93B3240&gt;</td></tr>\n",
       "</tbody>\n",
       "</table>"
      ],
      "text/plain": [
       "<IPython.core.display.HTML object>"
      ]
     },
     "metadata": {},
     "output_type": "display_data"
    },
    {
     "data": {
      "text/html": [
       "<table>\n",
       "<tbody>\n",
       "<tr><td>entry     </td><td>entry</td><td>[&#x27;expr&#x27;]                 </td></tr>\n",
       "<tr><td>expr_eq   </td><td>expr </td><td>[&#x27;expr1&#x27;, &#x27;_==&#x27;, &#x27;expr1&#x27;]</td></tr>\n",
       "<tr><td>          </td><td>expr </td><td>[&#x27;expr1&#x27;]                </td></tr>\n",
       "<tr><td>expr_add  </td><td>expr1</td><td>[&#x27;expr1&#x27;, &#x27;_+&#x27;, &#x27;expr2&#x27;] </td></tr>\n",
       "<tr><td>expr_sub  </td><td>expr1</td><td>[&#x27;expr1&#x27;, &#x27;_-&#x27;, &#x27;expr2&#x27;] </td></tr>\n",
       "<tr><td>          </td><td>expr1</td><td>[&#x27;expr2&#x27;]                </td></tr>\n",
       "<tr><td>expr_add  </td><td>expr2</td><td>[&#x27;expr2&#x27;, &#x27;_*&#x27;, &#x27;expr3&#x27;] </td></tr>\n",
       "<tr><td>expr_sub  </td><td>expr2</td><td>[&#x27;expr2&#x27;, &#x27;_/&#x27;, &#x27;expr3&#x27;] </td></tr>\n",
       "<tr><td>          </td><td>expr2</td><td>[&#x27;expr3&#x27;]                </td></tr>\n",
       "<tr><td>expr_neg  </td><td>expr3</td><td>[&#x27;_-&#x27;, &#x27;expr4&#x27;]          </td></tr>\n",
       "<tr><td>          </td><td>expr3</td><td>[&#x27;expr4&#x27;]                </td></tr>\n",
       "<tr><td>expr_int  </td><td>expr4</td><td>[&#x27;INT&#x27;]                  </td></tr>\n",
       "<tr><td>expr_float</td><td>expr4</td><td>[&#x27;FLOAT&#x27;]                </td></tr>\n",
       "<tr><td>expr_var  </td><td>expr4</td><td>[&#x27;NAME&#x27;]                 </td></tr>\n",
       "<tr><td>expr_var  </td><td>expr4</td><td>[&#x27;STRING&#x27;]               </td></tr>\n",
       "<tr><td>          </td><td>expr4</td><td>[&#x27;_(&#x27;, &#x27;expr&#x27;, &#x27;_)&#x27;]     </td></tr>\n",
       "</tbody>\n",
       "</table>"
      ],
      "text/plain": [
       "<IPython.core.display.HTML object>"
      ]
     },
     "metadata": {},
     "output_type": "display_data"
    }
   ],
   "source": [
    "parser = ExprLang()\n",
    "table(parser.lex.rules)\n",
    "table(parser.fsm.rules)"
   ]
  }
 ],
 "metadata": {
  "kernelspec": {
   "display_name": "venv",
   "language": "python",
   "name": "python3"
  },
  "language_info": {
   "codemirror_mode": {
    "name": "ipython",
    "version": 3
   },
   "file_extension": ".py",
   "mimetype": "text/x-python",
   "name": "python",
   "nbconvert_exporter": "python",
   "pygments_lexer": "ipython3",
   "version": "3.12.6"
  }
 },
 "nbformat": 4,
 "nbformat_minor": 2
}
